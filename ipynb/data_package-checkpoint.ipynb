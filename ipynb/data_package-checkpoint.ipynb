{
 "cells": [
  {
   "cell_type": "markdown",
   "metadata": {},
   "source": [
    "# InteRFACE Data Package Workflow\n",
    "\n",
    "Downloads and generates all needed data inputs for a ATS + MOSART run on a Sag River HUC.\n",
    "\n",
    "Given the HUC, the goal of this workflow is to generate a data package in a purely automated way."
   ]
  },
  {
   "cell_type": "code",
   "execution_count": 1,
   "metadata": {},
   "outputs": [
    {
     "name": "stdout",
     "output_type": "stream",
     "text": [
      "Using matplotlib backend: MacOSX\n"
     ]
    }
   ],
   "source": [
    "%matplotlib"
   ]
  },
  {
   "cell_type": "code",
   "execution_count": 2,
   "metadata": {},
   "outputs": [],
   "source": [
    "# input for this worksheet\n",
    "\n",
    "# the HUC to delineate\n",
    "huc = '190604020404'\n",
    "\n",
    "# contributing area, in pixels?  [m^2]? used to provide a lower bound on pixels\n",
    "# that are included in the stream network \n",
    "streams_contributing_area_cutoff = -1 \n",
    "\n",
    "# target, in pixels, of the subcatchment size\n",
    "target_subcatchment_size = 20000\n"
   ]
  },
  {
   "cell_type": "markdown",
   "metadata": {},
   "source": [
    "**Note on coordinate systems:**  Note that all files are assumed to be in the \"native CRS,\" which is the CRS of the native DEM.  This is required to avoid striping and other projection issues.   However, the native CRS is often lat-lon, and is therefore bad for calculating lengths and/or areas, especially in the Arctic.  Therefore we also work with a target CRS that will be used by ATS and MOSART.  Files that are in this target CRS will be called \"FILENAME_proj.*\"  "
   ]
  },
  {
   "cell_type": "code",
   "execution_count": 12,
   "metadata": {},
   "outputs": [],
   "source": [
    "# all imports done now to ensure environment is set up correctly\n",
    "import sys,os\n",
    "import numpy as np\n",
    "import matplotlib.pyplot as plt\n",
    "import scipy.optimize\n",
    "import collections\n",
    "import logging\n",
    "import fiona, rasterio, shapely\n",
    "import pickle5 as pickle\n",
    "\n",
    "import workflow\n",
    "import workflow.crs\n",
    "import workflow.warp\n",
    "import workflow.source_list\n",
    "import workflow.utils\n",
    "import workflow.ui\n",
    "import workflow.conf\n",
    "\n",
    "import whitebox_tools\n",
    "wbt = whitebox_tools.WhiteboxTools()\n",
    "wbt.verbose = False"
   ]
  },
  {
   "cell_type": "code",
   "execution_count": 4,
   "metadata": {},
   "outputs": [],
   "source": [
    "# configuration\n",
    "target_crs = workflow.crs.default_alaska_crs()\n",
    "raster_extension = 'tif'  # likely could be IMG or TIF\n",
    "package_directory = '/Users/uec/research/interface/problems/hillslopes/delineation_automated/'  # directory where these packages will go, one subdirectory for each HUC/data package\n",
    "\n",
    "# data sources\n",
    "data_sources = dict()\n",
    "data_sources['huc'] = workflow.source_list.huc_sources['WBD']  # NOTE, this could also be 'NHD' or 'NHD Plus'\n",
    "data_sources['dem'] = workflow.source_list.dem_sources['NED 1 arc-second']\n"
   ]
  },
  {
   "cell_type": "code",
   "execution_count": 5,
   "metadata": {},
   "outputs": [],
   "source": [
    "# set up watershed_workflow\n",
    "workflow.ui.setup_logging(1)\n",
    "raw_data_dir = os.path.join(package_directory, 'raw_data')\n",
    "if not os.path.isdir(raw_data_dir):\n",
    "    os.mkdir(raw_data_dir)\n",
    "workflow.conf.rcParams['DEFAULT']['data_directory'] = raw_data_dir"
   ]
  },
  {
   "cell_type": "markdown",
   "metadata": {},
   "source": [
    "## Data package description\n",
    "\n",
    "The following files are required to provide a complete data package."
   ]
  },
  {
   "cell_type": "code",
   "execution_count": 6,
   "metadata": {},
   "outputs": [],
   "source": [
    "def get_filenames(huc):\n",
    "    \"\"\"Set up the package directory and return a dictionary of filenames\"\"\"\n",
    "    huc_directory = os.path.join(package_directory, huc)\n",
    "    if not os.path.isdir(huc_directory):\n",
    "        os.mkdir(huc_directory)\n",
    "\n",
    "    filenames = dict()\n",
    "    def register_shapefile(key, filename):\n",
    "        filenames[key] = os.path.join(huc_directory, filename)+'.shp'\n",
    "\n",
    "    def register_raster(key, filename):\n",
    "        filenames[key] = os.path.join(huc_directory, filename)+'.'+raster_extension\n",
    "\n",
    "    # the HUC shapefile, in native and projected CRS\n",
    "    register_shapefile('huc', f'huc_{huc}')\n",
    "    register_shapefile('huc_proj', f'huc_{huc}_proj')\n",
    "\n",
    "    # the HUC DEM, slope, and aspect rasters\n",
    "    register_raster('dem', f'huc_{huc}_dem')  # in units of [m] above sea level\n",
    "    register_raster('dem_filled', f'huc_{huc}_dem_filled')\n",
    "    register_raster('d8', f'huc_{huc}_d8')\n",
    "    register_raster('d8i', f'huc_{huc}_d8i')\n",
    "    register_raster('weights', f'huc_{huc}_flowpath_weights')\n",
    "\n",
    "    register_raster('slope', f'huc_{huc}_slope')  # in units of [-], e.g. rise over run, NOT % slope\n",
    "    register_raster('aspect', f'huc_{huc}_aspect') # in units of degrees clockwise from North (0 = N, 90 = E, 180 = S)\n",
    "\n",
    "    # raster and shapefiles of the stream network\n",
    "    register_raster('streams_raster', f'huc_{huc}_streams')\n",
    "    register_shapefile('streams', f'huc_{huc}_streams')  # the shapefile extracted from the above raster\n",
    "    register_shapefile('streams_network', f'huc_{huc}_streams_network') # simplified to a network for MOSART\n",
    "    register_shapefile('streams_network_proj', f'huc_{huc}_streams_network_proj') # projected form of above\n",
    "\n",
    "    # delineated subcatchments within the HUC\n",
    "    register_shapefile('subcatchments', f'huc_{huc}_subcatchments')  # delineated subcatchments\n",
    "    \n",
    "    filenames['flowpaths'] = os.path.join(huc_directory, 'flowpaths', 'hs_{}_flowpaths.pkl')\n",
    "    register_raster('flowpath_length', f'huc_{huc}_flowpath_lengths') # flowpaths within the delineated subcatchments\n",
    "    register_raster('flowpath_length2', f'huc_{huc}_flowpath_lengths2') # flowpaths within the delineated subcatchments\n",
    "\n",
    "    return filenames\n",
    "\n",
    "\n",
    "filenames = get_filenames(huc)\n",
    "\n"
   ]
  },
  {
   "cell_type": "markdown",
   "metadata": {},
   "source": [
    "## Acquire the HUC shapefile and DEM from USGS"
   ]
  },
  {
   "cell_type": "code",
   "execution_count": 7,
   "metadata": {},
   "outputs": [
    {
     "name": "stderr",
     "output_type": "stream",
     "text": [
      "2020-10-14 12:22:56,103 - root - INFO: \n",
      "2020-10-14 12:22:56,105 - root - INFO: Preprocessing HUC\n",
      "2020-10-14 12:22:56,106 - root - INFO: ------------------------------\n",
      "2020-10-14 12:22:56,107 - root - INFO: Loading level 12 HUCs in 190604020404.\n",
      "2020-10-14 12:22:56,108 - root - INFO: Using HUC file \"/Users/uec/research/interface/problems/hillslopes/delineation_automated/raw_data/hydrography/WBD_19_GDB/WBD_19.gdb\"\n",
      "2020-10-14 12:22:58,056 - root - INFO:   found 1 HUCs.\n",
      "2020-10-14 12:22:58,057 - root - INFO:   -- 190604020404\n",
      "2020-10-14 12:22:58,058 - root - INFO: \n",
      "2020-10-14 12:22:58,058 - root - INFO: Preprocessing Raster\n",
      "2020-10-14 12:22:58,059 - root - INFO: ------------------------------\n",
      "2020-10-14 12:22:58,060 - root - INFO: collecting raster\n",
      "2020-10-14 12:22:58,061 - root - INFO: Collecting DEMs to tile bounds: [-149.3337383807433, 68.15835009523077, -148.79217986384458, 68.33619896061079]\n",
      "2020-10-14 12:22:58,062 - root - INFO:   Need:\n",
      "2020-10-14 12:22:58,062 - root - INFO:     /Users/uec/research/interface/problems/hillslopes/delineation_automated/raw_data/dem/USGS_NED_1as_n69_w150.img\n",
      "2020-10-14 12:22:58,063 - root - INFO:     /Users/uec/research/interface/problems/hillslopes/delineation_automated/raw_data/dem/USGS_NED_1as_n69_w149.img\n",
      "2020-10-14 12:22:58,102 - root - INFO: Got raster of shape: (641, 1950)\n",
      "2020-10-14 12:22:58,102 - root - INFO: Masking to shape\n",
      "2020-10-14 12:22:58,103 - root - INFO: shape bounds: (-149.32373838074332, 68.16835009523078, -148.80217986384457, 68.32619896061078)\n",
      "2020-10-14 12:22:58,108 - root - INFO: Raster bounds: (-149.3337383807433, 68.33619896061079, -148.79207171405866, 68.15814340504932)\n"
     ]
    }
   ],
   "source": [
    "# download (if necessary) the HUC shapefile\n",
    "huc_crs, huc_shape = workflow.get_huc(data_sources['huc'], huc)\n",
    "\n",
    "# download (if necessary) the DEM\n",
    "dem_profile, dem = workflow.get_raster_on_shape(data_sources['dem'], huc_shape, huc_crs, mask=True, nodata=np.nan)\n",
    "native_crs = workflow.crs.from_rasterio(dem_profile['crs'])\n",
    "\n",
    "# project the shapefile into the native CRS\n",
    "huc_shape = workflow.warp.shply(huc_shape, huc_crs, native_crs)\n",
    "\n"
   ]
  },
  {
   "cell_type": "code",
   "execution_count": 8,
   "metadata": {},
   "outputs": [],
   "source": [
    "# write the shapefile\n",
    "def write_to_shapefile(filename, shps, crs, extra_properties=None):\n",
    "    if len(shps) == 0:\n",
    "        return\n",
    "    \n",
    "    # set up the schema\n",
    "    schema = dict()\n",
    "    if type(shps[0]) is shapely.geometry.Polygon:\n",
    "        schema['geometry'] = 'Polygon'\n",
    "    elif type(shps[0]) is shapely.geometry.LineString:\n",
    "        schema['geometry'] = 'LineString'\n",
    "    else:\n",
    "        raise RuntimeError('Currently this function only writes Polygon or LineString types')\n",
    "    schema['properties'] = collections.OrderedDict()\n",
    "\n",
    "    # set up the properties schema\n",
    "    def register_type(key, atype):\n",
    "        if atype is int:\n",
    "            schema['properties'][key] = 'int'\n",
    "        elif atype is str:\n",
    "            schema['properties'][key] = 'str'\n",
    "        elif atype is float:\n",
    "            schema['properties'][key] = 'float'\n",
    "        else:\n",
    "            pass\n",
    "\n",
    "    if extra_properties is None:\n",
    "        extra_properties = dict()\n",
    "    for key, val in extra_properties.items():\n",
    "        register_type(key, type(val))\n",
    "\n",
    "    try:\n",
    "        item_properties = shps[0].properties\n",
    "    except AttributeError:\n",
    "        pass\n",
    "    else:\n",
    "        for key, val in item_properties.items():\n",
    "            register_type(key, type(val))\n",
    "\n",
    "    with fiona.open(filename, 'w', \n",
    "                    driver='ESRI Shapefile', \n",
    "                    crs=workflow.crs.to_fiona(crs), \n",
    "                    crs_wkt=workflow.crs.to_wkt(crs),\n",
    "                    schema=schema) as c:\n",
    "        for shp in shps:\n",
    "            props = extra_properties.copy()\n",
    "            try:\n",
    "                props.update(shp.properties)\n",
    "            except AttributeError:\n",
    "                pass\n",
    "            \n",
    "            for key in list(props.keys()):\n",
    "                if key not in schema['properties']:\n",
    "                    props.pop(key)\n",
    "                  \n",
    "            c.write({'geometry': shapely.geometry.mapping(shp),\n",
    "                     'properties': props })\n",
    "\n",
    "# write the shapefile\n",
    "if not os.path.isfile(filenames['huc']):\n",
    "    write_to_shapefile(filenames['huc'], [huc_shape,], native_crs)          \n",
    "    \n",
    "if not os.path.isfile(filenames['dem']):\n",
    "    # write the raster\n",
    "    rio_profile = dict(dem_profile).copy()\n",
    "    rio_profile.pop('blockxsize')\n",
    "    rio_profile.pop('blockysize')\n",
    "    rio_profile.pop('tiled')\n",
    "    rio_profile['nodata'] = -9999.0\n",
    "    rio_profile['driver'] = 'GTiff'\n",
    "    #rio_profile['compress'] = 'lzw'\n",
    "\n",
    "    rio_dem = np.where(np.isnan(dem), rio_profile['nodata'], dem).astype(rio_profile['dtype'])\n",
    "\n",
    "    with rasterio.open(filenames['dem'], 'w', **rio_profile) as dst:\n",
    "        dst.write(rio_dem,1)\n",
    "\n",
    "\n"
   ]
  },
  {
   "cell_type": "code",
   "execution_count": 9,
   "metadata": {},
   "outputs": [
    {
     "name": "stderr",
     "output_type": "stream",
     "text": [
      "2020-10-14 12:34:07,401 - root - INFO: BOUNDS: (-149.3337383807433, 68.15814340504932, -148.79207171405866, 68.33619896061079)\n"
     ]
    },
    {
     "data": {
      "text/plain": [
       "<matplotlib.patches.PathPatch at 0x7fcd286b6208>"
      ]
     },
     "execution_count": 9,
     "metadata": {},
     "output_type": "execute_result"
    },
    {
     "data": {
      "image/png": "[encoded data removed]",
      "text/plain": [
       "<Figure size 432x288 with 1 Axes>"
      ]
     },
     "metadata": {
      "needs_background": "light"
     },
     "output_type": "display_data"
    }
   ],
   "source": [
    "# plot just to make sure they look ok\n",
    "fig, ax = workflow.plot.get_ax(native_crs)\n",
    "workflow.plot.dem(dem_profile, dem, ax=ax)\n",
    "workflow.plot.shply([huc_shape,], native_crs, ax=ax)\n"
   ]
  },
  {
   "cell_type": "markdown",
   "metadata": {},
   "source": [
    "## Delineate into subbasins, generate flowpaths across those subbasins"
   ]
  },
  {
   "cell_type": "code",
   "execution_count": 10,
   "metadata": {},
   "outputs": [],
   "source": [
    "# NOTE: this needs to be added by Jon!\n",
    "#\n",
    "# At this point, we need:\n",
    "assert(os.path.isfile(filenames['subcatchments'])) # subcatchment shapefile\n",
    "assert(os.path.isfile(filenames['streams_raster'])) # streams raster\n"
   ]
  },
  {
   "cell_type": "markdown",
   "metadata": {},
   "source": [
    "## Load the shapefiles for delineated subbasins"
   ]
  },
  {
   "cell_type": "code",
   "execution_count": null,
   "metadata": {},
   "outputs": [],
   "source": [
    "_, subcatchments = workflow.get_shapes(filenames['subcatchments'], crs=native_crs)"
   ]
  },
  {
   "cell_type": "code",
   "execution_count": null,
   "metadata": {},
   "outputs": [],
   "source": [
    "# plot the subcatchments to see what we have...\n",
    "fig, ax = workflow.plot.get_ax(native_crs)\n",
    "workflow.plot.dem(dem_profile, dem, ax=ax)\n",
    "#workflow.plot.shply([huc_shape,], native_crs, ax=ax)\n",
    "workflow.plot.shply(workflow.utils.flatten(subcatchments), native_crs, ax=ax, color='r')"
   ]
  },
  {
   "cell_type": "code",
   "execution_count": null,
   "metadata": {},
   "outputs": [],
   "source": [
    "# raster of flowpath lengths for a single subcatchment\n",
    "fp_lengths_profile, fp_lengths = workflow.get_raster_on_shape(filenames['flowpath_length'], subcatch, \n",
    "                                                              native_crs, mask=True, nodata=np.nan)\n",
    "\n",
    "fig, ax = workflow.plot.get_ax(native_crs)\n",
    "workflow.plot.raster(fp_lengths_profile, fp_lengths, ax=ax)\n",
    "workflow.plot.shply(subcatch, native_crs, ax=ax, color='r')"
   ]
  },
  {
   "cell_type": "code",
   "execution_count": null,
   "metadata": {},
   "outputs": [],
   "source": [
    "# form the cumulative distribution of flowpath lengths\n",
    "fp_lengths_raw = np.sort(fp_lengths[~np.isnan(fp_lengths)])\n",
    "counts = np.arange(len(fp_lengths_raw),dtype='d')/len(fp_lengths_raw)\n",
    "plt.plot(fp_lengths_raw, counts, 'b-x')"
   ]
  },
  {
   "cell_type": "code",
   "execution_count": null,
   "metadata": {},
   "outputs": [],
   "source": [
    "# flowpaths\n",
    "def get_flowpath_shapes(subcatch_index):\n",
    "    filename = filenames['flowpaths'].format(subcatch_index)\n",
    "    logging.info(f'opening {filename}')\n",
    "    with open(filename, 'rb') as fid:\n",
    "        fps = pickle.load(fid)\n",
    "    logging.info('complete')\n",
    "    fps['elev_m'] = fps['elev_ft'] / 3.28084\n",
    "    fps.pop('elev_ft')\n",
    "    return fps\n",
    "\n",
    "def plot_flowpaths(subcatch, flowpaths):\n",
    "    flowpath_shps = flowpaths['geometry']\n",
    "    fig, ax = workflow.plot.get_ax(target_crs)\n",
    "    fps_shapes_sample = workflow.warp.shplys(flowpath_shps, native_crs, target_crs)\n",
    "\n",
    "    fps_lengths_sample = np.array([fp.length for fp in fps_shapes_sample])\n",
    "    workflow.plot.shply(fps_shapes_sample, target_crs, ax=ax, color='r')\n",
    "\n",
    "    subcatch_target = workflow.warp.shplys(subcatch, native_crs, target_crs)\n",
    "    workflow.plot.shply(subcatch_target, target_crs, ax=ax, color='k')\n",
    "\n",
    "\n",
    "def plot_subcatch(subcatch_index, num_to_plot=10):\n",
    "    fps = get_flowpath_shapes(subcatch_index)\n",
    "    \n",
    "    for sub in subcatchments:\n",
    "        if sub.properties['hs_id'] == subcatch_index:\n",
    "            subcatch = workflow.utils.flatten([sub,])\n",
    "            break\n",
    "            \n",
    "    count = len(fps['geometry'])\n",
    "    logging.info(f\"got {count}\")\n",
    "    plot_flowpaths(subcatch, fps[::int(np.round(count/num_to_plot))])\n",
    "    return shapely.geometry.MultiPolygon(subcatch), fps\n"
   ]
  },
  {
   "cell_type": "code",
   "execution_count": null,
   "metadata": {},
   "outputs": [],
   "source": [
    "# plot a sample to see what happens...\n",
    "subcatch5, fps5 = plot_subcatch(5,30)\n",
    "subcatch8, fps8 = plot_subcatch(8,30)\n",
    "\n",
    "\n",
    "# good examples:  5 (convergent), 8 (variable length single hillslope)"
   ]
  },
  {
   "cell_type": "markdown",
   "metadata": {},
   "source": [
    "## Try 1: working only with flowpaths"
   ]
  },
  {
   "cell_type": "code",
   "execution_count": null,
   "metadata": {},
   "outputs": [],
   "source": [
    "fp5_lengths = np.array([dist[-1] for dist in fps5['dist_m']])\n",
    "plt.hist(fp5_lengths, color='b')\n",
    "\n",
    "fp8_lengths = np.array([dist[-1] for dist in fps8['dist_m']])\n",
    "plt.hist(fp8_lengths, color='orange')\n"
   ]
  },
  {
   "cell_type": "code",
   "execution_count": null,
   "metadata": {},
   "outputs": [],
   "source": [
    "def plot_flowlines(fps, color='b'):\n",
    "    x_dist = np.concatenate([dist[-1] - dist for dist in fps['dist_m']])\n",
    "    y_elev = np.concatenate([elev - elev[-1] for elev in fps['elev_m']])\n",
    "    plt.scatter(x_dist, y_elev, marker='x', s=10, color=color)\n",
    "    plt.xlabel('distance from stream [m]')\n",
    "    plt.ylabel('elevation above stream [m]')\n",
    " \n",
    "fps5_sample = fps5[0::20]\n",
    "plot_flowlines(fps5_sample)"
   ]
  },
  {
   "cell_type": "markdown",
   "metadata": {},
   "source": [
    "### Approach 1\n",
    "\n",
    "Take some sampling of median flowpath lengths, fit to two lines, ignore convergence."
   ]
  },
  {
   "cell_type": "code",
   "execution_count": null,
   "metadata": {},
   "outputs": [],
   "source": [
    "def select_median_flowpaths(fps, n=10):\n",
    "    count = len(fps)\n",
    "    midp = int(np.round(count/2.0))\n",
    "\n",
    "    if n == 1:\n",
    "        return fps[midp:midp+1:1]\n",
    "    \n",
    "    assert(n % 2 == 0)\n",
    "    def max_len(a):\n",
    "        return [d[-1] for d in a]\n",
    "    fps.sort_values(by='dist_m', inplace=True, key=max_len)\n",
    "    \n",
    "    return fps[midp-int(n/2):midp+int(n/2):1]\n",
    "\n",
    "plot_flowlines(fps5_sample, 'b')\n",
    "\n",
    "fps5_median = select_median_flowpaths(fps5, n=20)\n",
    "plot_flowlines(fps5_median, 'r')\n",
    "plot_flowpaths(subcatch5, fps5_median)"
   ]
  },
  {
   "cell_type": "code",
   "execution_count": null,
   "metadata": {},
   "outputs": [],
   "source": [
    "def fit_line(x,y):\n",
    "    if len(x) == 0:\n",
    "        poly = [0.,0.]\n",
    "        err = 0.\n",
    "    elif x.max() <= x.min():\n",
    "        poly = [y.mean(), 0.]\n",
    "        err = np.sqrt(((y - y.mean())**2).sum())\n",
    "    else:\n",
    "        poly, err, _,_,_ = np.polyfit(x,y,1,full=True)\n",
    "    return poly, err\n",
    "\n",
    "def split_and_fit(x,y,split):\n",
    "    xl = x[x<split]\n",
    "    yl = y[x<split]\n",
    "    polyl, errl = fit_line(xl, yl)\n",
    "\n",
    "    xr = x[x>=split]\n",
    "    yr = y[x>=split]\n",
    "    polyr, errr = fit_line(xr, yr)\n",
    "    return np.sqrt(errr**2 + errl**2), polyl, polyr\n",
    "\n",
    "def fit_one_line(fps):\n",
    "    x_dist = np.concatenate([dist[-1] - dist for dist in fps['dist_m']])\n",
    "    y_elev = np.concatenate([elev - elev[-1] for elev in fps['elev_m']])\n",
    "\n",
    "    poly, err = fit_line(x_dist, y_elev)\n",
    "    return 0, [0,0], poly, (x_dist.min(), x_dist.max())\n",
    "\n",
    "def piecewise_linear(x, x0, y0, k1, k2):\n",
    "    #logging.info(f'piecewise linear with params = {x0},{y0},{k1},{k2}')\n",
    "    res = np.piecewise(x, [x < x0], [lambda x:k1*x + y0-k1*x0, lambda x:k2*x + y0-k2*x0])\n",
    "    #logging.info(f'res = {res}')\n",
    "    return res\n",
    "\n",
    "def fit_two_lines(fps):\n",
    "    x_dist = np.concatenate([dist[-1] - dist for dist in fps['dist_m']])\n",
    "    y_elev = np.concatenate([elev - elev[-1] for elev in fps['elev_m']])\n",
    "    bounds_dist = (x_dist.min(), x_dist.max())\n",
    "    logging.info(f'bounds = {bounds_dist}')\n",
    "\n",
    "    p , e = scipy.optimize.curve_fit(piecewise_linear, x_dist, y_elev, \n",
    "                                     p0=[np.median(x_dist), y_elev.mean(), 0, 0],\n",
    "                                     bounds=([bounds_dist[0], y_elev.min(), 0., 0.],\n",
    "                                             [bounds_dist[1], y_elev.max(), np.inf, np.inf]),\n",
    "                                     method='trf')\n",
    "    return p, bounds_dist\n",
    "\n",
    "def plot_fit(fps_median, poly, bounds):\n",
    "    logging.info(f'2-piece-linear poly = {poly}')\n",
    "    logging.info(f'2-piece-lienar bounds = {bounds}')\n",
    "\n",
    "    plot_flowlines(fps_median, 'k')\n",
    "    \n",
    "    x = np.linspace(bounds[0], bounds[1], 1000)\n",
    "    plt.plot(x, piecewise_linear(x, *poly), 'r')    \n",
    "    \n",
    "def fit_and_plot1(subcatch, fps):\n",
    "    fps_median = select_median_flowpaths(fps, n=20)\n",
    "    res = fit_two_lines(fps_median)\n",
    "    plot_fit(fps_median, *res)\n",
    "    plot_flowpaths(subcatch, fps_median)\n",
    "    \n",
    "    # return toeslope length, hillslope length\n",
    "    poly, bounds = res\n",
    "    total_length = bounds[1] - bounds[0]\n",
    "    transition_point = poly[0]\n",
    "    toeslope_length = transition_point - bounds[0]\n",
    "    hillslope_length = bounds[1] - transition_point\n",
    "    toeslope_slope = poly[2]\n",
    "    hillslope_slope = poly[3]\n",
    "    \n",
    "    subcatch_target = workflow.warp.shplys(subcatch, native_crs, target_crs)\n",
    "    area = shapely.geometry.MultiPolygon(subcatch_target).area\n",
    "    width = area / total_length\n",
    "    \n",
    "    pars = {'toeslope_length':toeslope_length,\n",
    "            'hillslope_length':hillslope_length,\n",
    "            'toeslope_slope':toeslope_slope,\n",
    "            'hillslope_slope':hillslope_slope,\n",
    "            'total_area':area,\n",
    "            'widths':[width, width, width]\n",
    "           }\n",
    "    return pars"
   ]
  },
  {
   "cell_type": "code",
   "execution_count": null,
   "metadata": {},
   "outputs": [],
   "source": [
    "pars = fit_and_plot1(subcatch8, fps8)\n",
    "logging.info(pars)\n"
   ]
  },
  {
   "cell_type": "markdown",
   "metadata": {},
   "source": [
    "## Other hillslope factors"
   ]
  },
  {
   "cell_type": "code",
   "execution_count": null,
   "metadata": {},
   "outputs": [],
   "source": []
  },
  {
   "cell_type": "code",
   "execution_count": null,
   "metadata": {},
   "outputs": [],
   "source": [
    "# aspect\n",
    "wbt.aspect(filenames['dem'], filenames['aspect'])\n",
    "def get_aspect(subcatch):\n",
    "    aspect_profile, aspect = workflow.get_raster_on_shape(filenames['aspect'], \n",
    "                                                    subcatch, native_crs, mask=True, nodata=np.nan)\n",
    "    fig, ax = workflow.plot.get_ax(native_crs)\n",
    "    workflow.plot.raster(aspect_profile, aspect, ax=ax)\n",
    "    workflow.plot.shply(subcatch, native_crs, ax=ax, color='r')\n",
    "    ax.set_xlim(subcatch.bounds[0],subcatch.bounds[2])\n",
    "    ax.set_ylim(subcatch.bounds[1], subcatch.bounds[3])\n",
    "    return aspect_profile, aspect\n",
    "\n",
    "aspect8_profile, aspect8 = get_aspect(subcatch8)"
   ]
  },
  {
   "cell_type": "code",
   "execution_count": null,
   "metadata": {},
   "outputs": [],
   "source": [
    "print(aspect8[~np.isnan(aspect8)].min())\n",
    "print(aspect8[~np.isnan(aspect8)].max())\n",
    "\n",
    "def mean_aspect(aspect):\n",
    "    \"\"\"Aspects are hard to take the mean of because of the angular aspect.\"\"\"\n",
    "    a = aspect[~np.isnan(aspect)]\n",
    "    a = np.where(a > 180, a - 360, a)\n",
    "    sina = np.sin(np.radians(a))\n",
    "    cosa = np.cos(np.radians(a))\n",
    "    avg_aspect_radians = np.arctan2(sum(sina), sum(cosa))\n",
    "    if avg_aspect_radians < 0:\n",
    "        avg_aspect_radians = 2*np.pi + avg_aspect_radians\n",
    "    return np.degrees(avg_aspect_radians)\n",
    "\n",
    "assert(mean_aspect(np.array([90,90,90])) == 90)\n",
    "assert(mean_aspect(np.array([0,0,0])) == 0)\n",
    "assert(mean_aspect(np.array([180,180,180])) == 180)\n",
    "assert(mean_aspect(np.array([270,270,270])) == 270)\n",
    "assert(mean_aspect(np.array([89,90,91])) == 90)\n",
    "assert(mean_aspect(np.array([179,180,181])) == 180)\n",
    "assert(mean_aspect(np.array([269,270,271])) == 270)\n",
    "assert(mean_aspect(np.array([359,0,1])) == 0)\n",
    "\n",
    "pars['aspect'] = mean_aspect(aspect8)\n",
    "print(f\"aspect = {pars['aspect']}\")\n"
   ]
  },
  {
   "cell_type": "code",
   "execution_count": null,
   "metadata": {},
   "outputs": [],
   "source": [
    "pars['centroid'] = subcatch8.centroid\n",
    "print(f\"centroid = {pars['centroid']}\")"
   ]
  },
  {
   "cell_type": "markdown",
   "metadata": {},
   "source": [
    "## Attempting to do distanced flowpath lengths in m with lat/long dataset"
   ]
  },
  {
   "cell_type": "code",
   "execution_count": null,
   "metadata": {},
   "outputs": [],
   "source": []
  },
  {
   "cell_type": "code",
   "execution_count": 13,
   "metadata": {},
   "outputs": [
    {
     "name": "stdout",
     "output_type": "stream",
     "text": [
      "/Users/uec/research/interface/problems/hillslopes/delineation_automated/190604020404/huc_190604020404_dem.tif\n"
     ]
    },
    {
     "data": {
      "text/plain": [
       "0"
      ]
     },
     "execution_count": 13,
     "metadata": {},
     "output_type": "execute_result"
    }
   ],
   "source": [
    "# fill the dem\n",
    "print(filenames['dem'])\n",
    "wbt.breach_depressions(filenames['dem'], filenames['dem_filled'])"
   ]
  },
  {
   "cell_type": "code",
   "execution_count": 14,
   "metadata": {},
   "outputs": [
    {
     "data": {
      "text/plain": [
       "0"
      ]
     },
     "execution_count": 14,
     "metadata": {},
     "output_type": "execute_result"
    }
   ],
   "source": [
    "# calculate the flow vector\n",
    "wbt.d8_pointer(filenames['dem_filled'], filenames['d8'])"
   ]
  },
  {
   "cell_type": "code",
   "execution_count": 16,
   "metadata": {},
   "outputs": [],
   "source": [
    "# workaround for WBT bug?  d8 file is written as floats, but must be read as ints.  Reformat/rewrite with a new dtype\n",
    "with rasterio.open(filenames['d8'],'r') as fid:\n",
    "    old_profile = fid.profile.copy()\n",
    "    data = fid.read(1)\n",
    "\n",
    "new_profile = old_profile.copy()\n",
    "new_profile['dtype'] = 'int16'\n",
    "new_profile['nodata'] = -1\n",
    "new_data = np.where(data == fid.profile['nodata'], new_profile['nodata'], data).astype(np.int16)\n",
    "\n",
    "with rasterio.open(filenames['d8i'], 'w', **new_profile) as dst:\n",
    "    dst.write(new_data,1)        \n",
    "\n",
    "   "
   ]
  },
  {
   "cell_type": "code",
   "execution_count": null,
   "metadata": {},
   "outputs": [],
   "source": [
    "# Set weights which deal with the issue of converting from degrees to m, and doing so \n",
    "# aware of the fact that a latitudinal degree is different from a longitudinal degree.\n",
    "# Also set stream weights to 0.\n",
    "weight_profile = old_profile.copy()\n",
    "weight_profile['dtype'] = 'float32'\n",
    "weight_profile['nodata'] = np.float32(np.nan)\n",
    "\n",
    "weights = np.ones(new_data.shape, dtype=np.float32)\n",
    "\n",
    "# load the d8\n",
    "with rasterio.open(filenames['d8i'], 'r') as fid:\n",
    "    d8 = fid.read(1)\n",
    "\n",
    "# Note, the d8 stencil is given by WBT ordering:\n",
    "#   64   128    1\n",
    "#   32     0    2\n",
    "#   16     8    4\n",
    "#\n",
    "dx_weight = \n",
    "\n",
    "with rasterio.open(filenames['weights'], 'w', **weight_profile) as dst:\n",
    "    dst.write(weights, 1)\n",
    "    "
   ]
  },
  {
   "cell_type": "code",
   "execution_count": null,
   "metadata": {},
   "outputs": [],
   "source": [
    "wbt.downslope_flowpath_length(filenames['d8i'], filenames['flowpath_length2'], weights=filenames['weights'])"
   ]
  },
  {
   "cell_type": "code",
   "execution_count": null,
   "metadata": {},
   "outputs": [],
   "source": [
    "d8_profile, d8 = workflow.get_raster_on_shape(filenames['flowpath_length'], huc_shape, native_crs, mask=False, nodata=np.nan)\n",
    "fig, ax = workflow.plot.get_ax(native_crs)\n",
    "workflow.plot.raster(d8_profile, d8, ax=ax, vmin=0, vmax=0.5)\n",
    "#workflow.plot.shply([huc_shape,], native_crs, ax=ax)\n",
    "workflow.plot.shply([huc_shape,], native_crs, ax=ax, color='r')\n",
    "#ax.set_xlim(subcatch8.bounds[0],subcatch8.bounds[2])\n",
    "#ax.set_ylim(subcatch8.bounds[1], subcatch8.bounds[3])\n",
    "print(d8[0,0])\n",
    "print(d8[100,100])\n",
    "print(d8[500,320])"
   ]
  },
  {
   "cell_type": "code",
   "execution_count": null,
   "metadata": {},
   "outputs": [],
   "source": [
    "d8_profile, d8 = workflow.get_raster_on_shape(filenames['flowpath_length2'], huc_shape, native_crs, mask=False, nodata=np.nan)\n",
    "fig, ax = workflow.plot.get_ax(native_crs)\n",
    "workflow.plot.raster(d8_profile, d8, ax=ax, vmin=0, vmax=0.5)\n",
    "#workflow.plot.shply([huc_shape,], native_crs, ax=ax)\n",
    "workflow.plot.shply([huc_shape,], native_crs, ax=ax, color='r')\n",
    "#ax.set_xlim(subcatch8.bounds[0],subcatch8.bounds[2])\n",
    "#ax.set_ylim(subcatch8.bounds[1], subcatch8.bounds[3])\n",
    "print(d8[0,0])\n",
    "print(d8[100,100])\n",
    "print(d8[500,320])"
   ]
  },
  {
   "cell_type": "code",
   "execution_count": null,
   "metadata": {},
   "outputs": [],
   "source": []
  }
 ],
 "metadata": {
  "kernelspec": {
   "display_name": "Python 3",
   "language": "python",
   "name": "python3"
  },
  "language_info": {
   "codemirror_mode": {
    "name": "ipython",
    "version": 3
   },
   "file_extension": ".py",
   "mimetype": "text/x-python",
   "name": "python",
   "nbconvert_exporter": "python",
   "pygments_lexer": "ipython3",
   "version": "3.6.11"
  }
 },
 "nbformat": 4,
 "nbformat_minor": 2
}
