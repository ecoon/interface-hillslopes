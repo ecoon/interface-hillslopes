{
 "cells": [
  {
   "cell_type": "markdown",
   "id": "a45b921c",
   "metadata": {},
   "source": [
    "<font size=\"6\">**InteRFACE Data Package Workflow**</font>"
   ]
  },
  {
   "cell_type": "markdown",
   "id": "d8af26e3",
   "metadata": {},
   "source": [
    "**Objective:**  \n",
    "* Download all needed data inputs for a ATS + MOSART run on a Sag River HUC.\n",
    "* Process raw huc data and generate mesh.\n",
    "* Generate a data package in a purely automated way."
   ]
  },
  {
   "cell_type": "code",
   "execution_count": 1,
   "id": "b92fa29a",
   "metadata": {},
   "outputs": [],
   "source": [
    "import sys,os\n",
    "import numpy as np\n",
    "import datetime\n",
    "import matplotlib.pyplot as plt\n",
    "import matplotlib.gridspec as gridspec\n",
    "import scipy.optimize, scipy.signal, scipy.stats\n",
    "import collections\n",
    "import logging\n",
    "import fiona, rasterio, shapely\n",
    "import rasterio.warp\n",
    "\n",
    "import workflow\n",
    "import workflow.crs\n",
    "import workflow.warp\n",
    "import workflow.source_list\n",
    "import workflow.utils\n",
    "import workflow.ui\n",
    "import workflow.conf\n",
    "import workflow.mesh\n",
    "\n",
    "import hillslopes\n",
    "import landcover\n",
    "import meshing\n",
    "import plot"
   ]
  },
  {
   "cell_type": "markdown",
   "id": "3ea2203a",
   "metadata": {},
   "source": [
    "# Processing preparation"
   ]
  },
  {
   "cell_type": "markdown",
   "id": "ea31aacc",
   "metadata": {},
   "source": [
    "## Input for this worksheet"
   ]
  },
  {
   "cell_type": "code",
   "execution_count": 2,
   "id": "b9c888d5",
   "metadata": {},
   "outputs": [],
   "source": [
    "# the HUC to delineate\n",
    "huc = '190604020404'\n",
    "\n",
    "# contributing area, in pixels?  [m^2]? used to provide a lower bound on pixels\n",
    "# that are included in the stream network \n",
    "streams_contributing_area_cutoff = -1 \n",
    "\n",
    "# target, in pixels, of the subcatchment size\n",
    "target_subcatchment_size = 20000\n",
    "\n",
    "# number of horizontal grid cells in the hillslope\n",
    "hillslope_bin_dx = 100\n",
    "mesh_dx = 20\n",
    "toeslope_min_slope = 0.0\n",
    "hillslope_min_slope = 0.1\n",
    "\n",
    "#Don't let individual areas get too small in width -- 10% mean as a min value?\n",
    "min_area_ratio = 0.1\n",
    "\n",
    "# Refine mesh area no larger than refine_max_area\n",
    "refine_max_area = 1000\n",
    "\n",
    "# what fraction of the total flowpath lengths do we want to include?\n",
    "#\n",
    "# Effectively, some small number of pixels are often a long way away from the stream\n",
    "# (whether this is real or artifact).  We don't need tiny cells up at the top of the\n",
    "# hillslope.  Maybe keep 95% of the flowpath length?\n",
    "hillslope_keep_fraction = 0.95\n",
    "\n",
    "# demo subcatchment\n",
    "subcatch_demo_id = 35\n",
    "\n",
    "# The top level directory where these packages will go, one subdirectory for each HUC/data package\n",
    "package_directory = '../huc'"
   ]
  },
  {
   "cell_type": "markdown",
   "id": "d26910d1",
   "metadata": {},
   "source": [
    "## Set up directory"
   ]
  },
  {
   "cell_type": "code",
   "execution_count": 3,
   "id": "e45012d2",
   "metadata": {},
   "outputs": [],
   "source": [
    "# directory for one huc\n",
    "huc_dir = os.path.join(package_directory,f'{huc}')\n",
    "if not os.path.isdir(huc_dir):\n",
    "    os.mkdir(huc_dir)\n",
    "\n",
    "# directory of raw hillslope data for this huc, downloaded from USGS\n",
    "hillslope_raw_dir = os.path.join(huc_dir, 'data_raw-hillslope')\n",
    "if not os.path.isdir(hillslope_raw_dir):\n",
    "    os.mkdir(hillslope_raw_dir)\n",
    "    \n",
    "# directory of preprocessed hillslope data for meshing in this huc\n",
    "pp_hillslope_dir = os.path.join(huc_dir, 'data_preprocessed-meshing')\n",
    "if not os.path.isdir(pp_hillslope_dir):\n",
    "    os.mkdir(pp_hillslope_dir)\n",
    "    \n",
    "# directory of generated meshes\n",
    "mesh_dir = os.path.join(huc_dir, 'mesh')\n",
    "if not os.path.isdir(mesh_dir):\n",
    "    os.mkdir(mesh_dir)\n",
    "        \n",
    "# directory of raw daymet data for this huc\n",
    "daymet_raw_dir = os.path.join(huc_dir, 'data_raw-daymet')\n",
    "if not os.path.isdir(daymet_raw_dir):\n",
    "    os.mkdir(daymet_raw_dir)    \n",
    "\n",
    "# directory of processed daymet data for this huc\n",
    "daymet_dir = os.path.join(huc_dir, 'daymet')\n",
    "if not os.path.isdir(daymet_dir):\n",
    "    os.mkdir(daymet_dir)"
   ]
  },
  {
   "cell_type": "markdown",
   "id": "1ab2fb57",
   "metadata": {},
   "source": [
    "## Set up data source and watershed_workflow"
   ]
  },
  {
   "cell_type": "code",
   "execution_count": 4,
   "id": "62862906",
   "metadata": {},
   "outputs": [],
   "source": [
    "target_crs = workflow.crs.default_alaska_crs()\n",
    "raster_extension = 'tif'\n",
    "\n",
    "# data sources\n",
    "data_sources = dict()\n",
    "data_sources['huc'] = workflow.source_list.huc_sources['WBD']  \n",
    "data_sources['dem'] = workflow.source_list.dem_sources['NED 1 arc-second']\n",
    "\n",
    "# set up watershed_workflow\n",
    "workflow.ui.setup_logging(1)\n",
    "workflow.conf.rcParams['DEFAULT']['data_directory'] = hillslope_raw_dir"
   ]
  },
  {
   "cell_type": "markdown",
   "id": "78e88b15",
   "metadata": {},
   "source": [
    "## Set up filenames needed in data package"
   ]
  },
  {
   "cell_type": "code",
   "execution_count": 5,
   "id": "9408461c",
   "metadata": {},
   "outputs": [],
   "source": [
    "filenames = hillslopes.get_filenames(huc, huc_dir)\n",
    "# print(filenames)"
   ]
  },
  {
   "cell_type": "markdown",
   "id": "30bcee47",
   "metadata": {},
   "source": [
    "# Acquire HUC shapefile and DEM from USGS"
   ]
  },
  {
   "cell_type": "markdown",
   "id": "7e427d29",
   "metadata": {},
   "source": [
    "## Download and conversion"
   ]
  },
  {
   "cell_type": "code",
   "execution_count": 6,
   "id": "0883d586",
   "metadata": {
    "scrolled": false
   },
   "outputs": [
    {
     "name": "stderr",
     "output_type": "stream",
     "text": [
      "2021-10-01 10:56:12,437 - root - INFO: \n",
      "2021-10-01 10:56:12,438 - root - INFO: Loading HUC 190604020404\n",
      "2021-10-01 10:56:12,439 - root - INFO: ------------------------------\n",
      "2021-10-01 10:56:12,440 - root - INFO: \n",
      "2021-10-01 10:56:12,441 - root - INFO: Loading level 12 HUCs in 190604020404\n",
      "2021-10-01 10:56:12,441 - root - INFO: ------------------------------\n",
      "2021-10-01 10:56:12,443 - root - INFO: Using HUC file \"../huc/190604020404/data_raw-hillslope/hydrography/WBD_19_GDB/WBD_19.gdb\"\n",
      "2021-10-01 10:56:14,729 - root - INFO: ... found 1 HUCs\n",
      "2021-10-01 10:56:14,730 - root - INFO:   -- 190604020404\n",
      "2021-10-01 10:56:14,740 - root - INFO: Converting to shapely\n",
      "2021-10-01 10:56:14,741 - root - INFO: ... found 1\n",
      "2021-10-01 10:56:14,742 - root - INFO: \n",
      "2021-10-01 10:56:14,742 - root - INFO: Loading Raster\n",
      "2021-10-01 10:56:14,743 - root - INFO: ------------------------------\n",
      "2021-10-01 10:56:14,743 - root - INFO: Collecting raster\n",
      "2021-10-01 10:56:14,777 - root - INFO: Collecting DEMs to tile bounds: [-149.3337383807433, 68.15835009523077, -148.79217986384458, 68.33619896061079]\n",
      "2021-10-01 10:56:14,778 - root - INFO:   Need:\n",
      "2021-10-01 10:56:14,778 - root - INFO:     ../huc/190604020404/data_raw-hillslope/dem/USGS_NED_1as_n69_w150.tif\n",
      "2021-10-01 10:56:14,779 - root - INFO:     ../huc/190604020404/data_raw-hillslope/dem/USGS_NED_1as_n69_w149.tif\n",
      "2021-10-01 10:56:14,779 - root - INFO: source files already exist!\n",
      "2021-10-01 10:56:14,871 - root - INFO: ... got raster of shape: (641, 1950)\n",
      "2021-10-01 10:56:14,880 - root - INFO: Masking to shape\n",
      "2021-10-01 10:56:14,912 - root - INFO:   shape bounds: (-149.32373838074332, 68.16835009523078, -148.80217986384457, 68.32619896061078)\n",
      "2021-10-01 10:56:14,917 - root - INFO:   casting mask of dtype: float32 to: nan\n",
      "2021-10-01 10:56:14,919 - root - INFO: ... got raster bounds: (-149.3337383807433, 68.33619896061079, -148.79207171405866, 68.15814340504932)\n"
     ]
    }
   ],
   "source": [
    "# download (if necessary) the HUC shapefile\n",
    "huc_crs, huc_shape = workflow.get_huc(data_sources['huc'], huc)\n",
    "\n",
    "# download (if necessary) the DEM\n",
    "dem_profile, dem_raster = workflow.get_raster_on_shape(data_sources['dem'], \n",
    "                                                       huc_shape, huc_crs, \n",
    "                                                       mask=True, nodata=np.nan)\n",
    "# convert rasterio crs to workfkow standard crs\n",
    "native_crs = workflow.crs.from_rasterio(dem_profile['crs'])\n",
    "\n",
    "# project the shapefile into the native CRS\n",
    "huc_shape = workflow.warp.shply(huc_shape, huc_crs, native_crs)"
   ]
  },
  {
   "cell_type": "markdown",
   "id": "26f51878",
   "metadata": {},
   "source": [
    "## Validate: plot DEM and HUC shape"
   ]
  },
  {
   "cell_type": "code",
   "execution_count": 7,
   "id": "98defa77",
   "metadata": {},
   "outputs": [],
   "source": [
    "fig_property = dict()\n",
    "fig_property['figsize'] = (12,4)\n",
    "fig_property['dpi'] = 80\n",
    "fig, ax = workflow.plot.get_ax(native_crs, **fig_property)\n",
    "workflow.plot.dem(dem_profile, dem_raster, ax=ax)\n",
    "workflow.plot.shply([huc_shape,], native_crs, ax=ax)\n",
    "plt.show()"
   ]
  },
  {
   "cell_type": "markdown",
   "id": "a95bc135",
   "metadata": {},
   "source": [
    "## Save DEM and HUC shape files do disk"
   ]
  },
  {
   "cell_type": "code",
   "execution_count": 8,
   "id": "8474823f",
   "metadata": {},
   "outputs": [],
   "source": [
    "if not os.path.isfile(filenames['huc']):\n",
    "    hillslopes.save_shapefile(filenames['huc'], [huc_shape,], native_crs)          \n",
    "\n",
    "if not os.path.isfile(filenames['dem']):\n",
    "    hillslopes.save_demfile(filenames['dem'], dem_profile, dem_raster)"
   ]
  },
  {
   "cell_type": "markdown",
   "id": "49f89c9c",
   "metadata": {},
   "source": [
    "# Delineate subcatchments and flowpaths"
   ]
  },
  {
   "cell_type": "markdown",
   "id": "4267d9da",
   "metadata": {},
   "source": [
    "## Subcatchments and flowpaths source"
   ]
  },
  {
   "cell_type": "code",
   "execution_count": 9,
   "id": "54da22c4",
   "metadata": {},
   "outputs": [],
   "source": [
    "# NOTE: this needs to be added by Jon!\n",
    "#\n",
    "# At this point, we need:\n",
    "assert(os.path.isfile(filenames['subcatchments'])) # subcatchment shapefile\n",
    "assert(os.path.isfile(filenames['streams_raster'])) # streams raster\n",
    "assert(os.path.isfile(filenames['aspect'])) # aspect raster\n",
    "assert(os.path.isfile(filenames['slope'])) # slope raster\n",
    "assert(os.path.isfile(filenames['flowpath_length'])) # raster of each pixel's distance to the stream\n",
    "assert(os.path.isfile(filenames['elev_above_streams'])) # raster of HAND"
   ]
  },
  {
   "cell_type": "markdown",
   "id": "89ad20b5",
   "metadata": {},
   "source": [
    "## Load all subcatchments and flowpaths from source"
   ]
  },
  {
   "cell_type": "code",
   "execution_count": 10,
   "id": "0c41298b",
   "metadata": {},
   "outputs": [
    {
     "name": "stderr",
     "output_type": "stream",
     "text": [
      "2021-10-01 10:56:14,981 - root - INFO: \n",
      "2021-10-01 10:56:14,983 - root - INFO: Loading shapes\n",
      "2021-10-01 10:56:14,985 - root - INFO: ------------------------------\n",
      "2021-10-01 10:56:14,987 - root - INFO: Loading file: '../huc/190604020404/data_preprocessed-meshing/huc_190604020404_subcatchments.shp'\n",
      "2021-10-01 10:56:15,001 - root - INFO: ... found 44 shapes\n",
      "2021-10-01 10:56:15,002 - root - INFO: Converting to shapely\n",
      "2021-10-01 10:56:15,023 - root - INFO: Converting to requested CRS\n"
     ]
    },
    {
     "name": "stdout",
     "output_type": "stream",
     "text": [
      "Numbers of subcatchments in basin-190604020404:  44\n"
     ]
    }
   ],
   "source": [
    "_, subcatchments = workflow.get_shapes(filenames['subcatchments'], out_crs=native_crs)\n",
    "print(f'Numbers of subcatchments in basin-{huc}: ', len(subcatchments))"
   ]
  },
  {
   "cell_type": "markdown",
   "id": "78b1a50e",
   "metadata": {},
   "source": [
    "## Validate: plot subcatchments and flowpaths"
   ]
  },
  {
   "cell_type": "code",
   "execution_count": 11,
   "id": "e5a14591",
   "metadata": {},
   "outputs": [],
   "source": [
    "fig_property = dict()\n",
    "fig_property['figsize'] = (12,4)\n",
    "fig_property['dpi'] = 80\n",
    "fig, ax = workflow.plot.get_ax(native_crs, **fig_property)\n",
    "workflow.plot.dem(dem_profile, dem_raster, ax=ax)\n",
    "workflow.plot.shply(workflow.utils.flatten(subcatchments),\n",
    "                    native_crs, ax=ax, color='r')\n",
    "plt.show()"
   ]
  },
  {
   "cell_type": "markdown",
   "id": "c62d4e99",
   "metadata": {},
   "source": [
    "# Land cover"
   ]
  },
  {
   "cell_type": "markdown",
   "id": "d3bdb7f1",
   "metadata": {},
   "source": [
    "## Project NNSI land cover and save to disk"
   ]
  },
  {
   "cell_type": "code",
   "execution_count": 12,
   "id": "cf5331c8",
   "metadata": {},
   "outputs": [],
   "source": [
    "# if not os.path.isfile(filenames['land_cover']):\n",
    "#     landcover.reprojectLandCover(dem_profile, nssiImg_filename, filenames['land_cover'])\n",
    "# Comment because no NSSI land cover map data"
   ]
  },
  {
   "cell_type": "markdown",
   "id": "c2c6a9c8",
   "metadata": {},
   "source": [
    "## Validate: plot land cover "
   ]
  },
  {
   "cell_type": "code",
   "execution_count": 13,
   "id": "09835626",
   "metadata": {
    "scrolled": false
   },
   "outputs": [],
   "source": [
    "lc_profile, lc_raster = workflow.get_raster_on_shape(filenames['land_cover'],\n",
    "                                                     huc_shape, huc_crs, \n",
    "                                                     mask=True, nodata=np.nan)\n",
    "fig_property = dict()\n",
    "fig_property['figsize'] = (12,4)\n",
    "fig_property['dpi'] = 80\n",
    "\n",
    "fig, ax = workflow.plot.get_ax(native_crs, **fig_property)\n",
    "land_cover = workflow.plot.raster(lc_profile, lc_raster, ax=ax)\n",
    "workflow.plot.shply([huc_shape,], native_crs, ax=ax)\n",
    "# fig.colorbar(land_cover)\n",
    "plt.show()"
   ]
  },
  {
   "cell_type": "markdown",
   "id": "2f8cef6b",
   "metadata": {},
   "source": [
    "# Determine hillslopes geometry based on flowpaths"
   ]
  },
  {
   "cell_type": "markdown",
   "id": "4e2163b7",
   "metadata": {},
   "source": [
    "**Objective:**  \n",
    "* Determine a single hillslope profile geometry for each subcatchment (44 in total).\n",
    "\n",
    "**Objects to obtain:**  \n",
    "* hillslope length\n",
    "* an elevation profile along that length\n",
    "* a width along that length\n",
    "\n",
    "**Main idea:**\n",
    "* Regard each subcatchment as a single flowpath, with average properties.\n",
    "\n",
    "**Method:**  \n",
    "* Route the surface flow and generate a standard D8<sup>[1]</sup> flowpath direction vector for each pixel of the (smoothed and filled) DEM.\n",
    "* Form rasters comprising of \"length along the flowpath to the stream network\" and the corresponding \"height above the stream network.\"\n",
    "* Bin the rasters according to the flowpath length.\n",
    "* Average pixels in each bin to determine:\n",
    "    - hillslope length = 90th % of the maximum flowpath length\n",
    "    - bins as a function of flowpath length\n",
    "    - elevation as a function of bin\n",
    "    - number of pixels in each bin gives an area\n",
    "\n",
    "\n",
    "\n",
    "**Notes**  \n",
    "[1] There are eight valid output directions relating to the eight adjacent cells into which flow could travel. This approach is commonly referred to as an [eight-direction (D8) flow model](https://pro.arcgis.com/en/pro-app/latest/tool-reference/raster-analysis/flow-direction.htm). This method models flow direction from each cell to its steepest downslope neighbor. The output is an integer raster whose values range from 1 to 255. The number denotes the flowpath."
   ]
  },
  {
   "cell_type": "markdown",
   "id": "25d16b4d",
   "metadata": {},
   "source": [
    "## Get hillslope parameters for one subcatchment "
   ]
  },
  {
   "cell_type": "code",
   "execution_count": 14,
   "id": "cbceae4f",
   "metadata": {
    "scrolled": false
   },
   "outputs": [
    {
     "name": "stderr",
     "output_type": "stream",
     "text": [
      "2021-10-01 10:56:15,081 - root - INFO: \n",
      "2021-10-01 10:56:15,081 - root - INFO: Loading shapes\n",
      "2021-10-01 10:56:15,082 - root - INFO: ------------------------------\n",
      "2021-10-01 10:56:15,083 - root - INFO: Loading file: '../huc/190604020404/data_preprocessed-meshing/huc_190604020404_subcatchments.shp'\n",
      "2021-10-01 10:56:15,087 - root - INFO: ... found 44 shapes\n",
      "2021-10-01 10:56:15,088 - root - INFO: Converting to shapely\n",
      "2021-10-01 10:56:15,141 - root - INFO: \n",
      "2021-10-01 10:56:15,142 - root - INFO: Loading Raster\n",
      "2021-10-01 10:56:15,143 - root - INFO: ------------------------------\n",
      "2021-10-01 10:56:15,143 - root - INFO: Loading file: '../huc/190604020404/data_preprocessed-meshing/huc_190604020404_flowpath_lengths.tif'\n",
      "2021-10-01 10:56:15,144 - root - INFO: Collecting raster\n",
      "2021-10-01 10:56:15,190 - root - INFO: ... got raster of shape: (130, 305)\n",
      "2021-10-01 10:56:15,200 - root - INFO: Masking to shape\n",
      "2021-10-01 10:56:15,232 - root - INFO:   shape bounds: (-149.21512726962825, 68.16842118282744, -149.13040504740323, 68.20425451616197)\n",
      "2021-10-01 10:56:15,235 - root - INFO:   casting mask of dtype: float32 to: -32768.0\n",
      "2021-10-01 10:56:15,235 - root - INFO: ... got raster bounds: (-149.21512726962825, 68.20453229393975, -149.13040504740323, 68.16842118282744)\n",
      "2021-10-01 10:56:15,239 - root - INFO: \n",
      "2021-10-01 10:56:15,240 - root - INFO: Loading Raster\n",
      "2021-10-01 10:56:15,240 - root - INFO: ------------------------------\n",
      "2021-10-01 10:56:15,241 - root - INFO: Loading file: '../huc/190604020404/data_preprocessed-meshing/huc_190604020404_elev_above_streams.tif'\n",
      "2021-10-01 10:56:15,242 - root - INFO: Collecting raster\n"
     ]
    },
    {
     "name": "stdout",
     "output_type": "stream",
     "text": [
      "bounds in my_crs: (-149.21512726962825, 68.16842118282744, -149.13040504740323, 68.20425451616197)\n"
     ]
    },
    {
     "name": "stderr",
     "output_type": "stream",
     "text": [
      "2021-10-01 10:56:15,289 - root - INFO: ... got raster of shape: (130, 305)\n",
      "2021-10-01 10:56:15,298 - root - INFO: Masking to shape\n",
      "2021-10-01 10:56:15,328 - root - INFO:   shape bounds: (-149.21512726962825, 68.16842118282744, -149.13040504740323, 68.20425451616197)\n",
      "2021-10-01 10:56:15,330 - root - INFO:   casting mask of dtype: float32 to: -999.0\n",
      "2021-10-01 10:56:15,331 - root - INFO: ... got raster bounds: (-149.21512726962825, 68.20453229393975, -149.13040504740323, 68.16842118282744)\n",
      "2021-10-01 10:56:15,335 - root - INFO: \n",
      "2021-10-01 10:56:15,335 - root - INFO: Loading Raster\n",
      "2021-10-01 10:56:15,336 - root - INFO: ------------------------------\n",
      "2021-10-01 10:56:15,337 - root - INFO: Loading file: '../huc/190604020404/data_preprocessed-meshing/huc_190604020404_aspect.tif'\n",
      "2021-10-01 10:56:15,339 - root - INFO: Collecting raster\n",
      "2021-10-01 10:56:15,388 - root - INFO: ... got raster of shape: (130, 305)\n"
     ]
    },
    {
     "name": "stdout",
     "output_type": "stream",
     "text": [
      "bounds in my_crs: (-149.21512726962825, 68.16842118282744, -149.13040504740323, 68.20425451616197)\n",
      "bounds in my_crs: (-149.21512726962825, 68.16842118282744, -149.13040504740323, 68.20425451616197)\n"
     ]
    },
    {
     "name": "stderr",
     "output_type": "stream",
     "text": [
      "2021-10-01 10:56:15,398 - root - INFO: Masking to shape\n",
      "2021-10-01 10:56:15,434 - root - INFO:   shape bounds: (-149.21512726962825, 68.16842118282744, -149.13040504740323, 68.20425451616197)\n",
      "2021-10-01 10:56:15,437 - root - INFO:   casting mask of dtype: float32 to: -9999.0\n",
      "2021-10-01 10:56:15,438 - root - INFO: ... got raster bounds: (-149.21512726962825, 68.20453229393975, -149.13040504740323, 68.16842118282744)\n",
      "2021-10-01 10:56:15,442 - root - INFO: \n",
      "2021-10-01 10:56:15,443 - root - INFO: Loading Raster\n",
      "2021-10-01 10:56:15,444 - root - INFO: ------------------------------\n",
      "2021-10-01 10:56:15,444 - root - INFO: Loading file: '../huc/190604020404/data_preprocessed-meshing/huc_190604020404_landcover.tif'\n",
      "2021-10-01 10:56:15,445 - root - INFO: Collecting raster\n",
      "2021-10-01 10:56:15,493 - root - INFO: ... got raster of shape: (130, 305)\n",
      "2021-10-01 10:56:15,503 - root - INFO: Masking to shape\n",
      "2021-10-01 10:56:15,536 - root - INFO:   shape bounds: (-149.21512726962825, 68.16842118282744, -149.13040504740323, 68.20425451616197)\n",
      "2021-10-01 10:56:15,538 - root - INFO:   casting mask of dtype: float32 to: 255.0\n",
      "2021-10-01 10:56:15,539 - root - INFO: ... got raster bounds: (-149.21512726962825, 68.20453229393975, -149.13040504740323, 68.16842118282744)\n"
     ]
    },
    {
     "name": "stdout",
     "output_type": "stream",
     "text": [
      "bounds in my_crs: (-149.21512726962825, 68.16842118282744, -149.13040504740323, 68.20425451616197)\n",
      "error:  0.0002331351861357689\n"
     ]
    },
    {
     "name": "stderr",
     "output_type": "stream",
     "text": [
      "/Users/3hg/opt/anaconda3/envs/watershed_workflow/lib/python3.9/site-packages/pyproj/crs/crs.py:543: UserWarning: You will likely lose important projection information when converting to a PROJ string from another format. See: https://proj.org/faq.html#what-is-the-best-format-for-describing-coordinate-reference-systems\n",
      "  proj_string = self.to_proj4()\n"
     ]
    },
    {
     "data": {
      "image/png": "[encoded data removed]",
      "text/plain": [
       "<Figure size 432x288 with 1 Axes>"
      ]
     },
     "metadata": {
      "needs_background": "light"
     },
     "output_type": "display_data"
    }
   ],
   "source": [
    "hillslope_demo_pars = hillslopes.parameterizeSubcatchment(\n",
    "    filenames, huc, subcatch_demo_id,\n",
    "    target_crs=target_crs,\n",
    "    hillslope_keep_fraction=hillslope_keep_fraction,\n",
    "    hillslope_bin_dx=hillslope_bin_dx,\n",
    "    plot_smoothed=True)\n",
    "\n",
    "mesh_demo_pars = meshing.parameterizeMesh(hillslope_demo_pars, mesh_dx,\n",
    "                                          toeslope_min_slope=toeslope_min_slope,\n",
    "                                          hillslope_min_slope=hillslope_min_slope,\n",
    "                                          min_area_ratio=min_area_ratio)\n",
    "\n",
    "# print(hillslope.keys())"
   ]
  },
  {
   "cell_type": "markdown",
   "id": "187c4e5d",
   "metadata": {},
   "source": [
    "## Validate: plot the hillslope"
   ]
  },
  {
   "cell_type": "code",
   "execution_count": 15,
   "id": "8d9e358a",
   "metadata": {},
   "outputs": [],
   "source": [
    "# fig = plt.figure(figsize=(6,8))\n",
    "# plt.tight_layout()\n",
    "# gs = gridspec.GridSpec(4,1)\n",
    "# axs = [fig.add_subplot(gs[2,0]), fig.add_subplot(gs[3,0])]\n",
    "# plot.plot(hillslope_demo_pars, mesh_demo_pars, fig=fig, axs=axs)\n",
    "\n",
    "\n",
    "# ax0 = workflow.plot.get_ax(native_crs, fig, axgrid=gs[0,:])\n",
    "# workflow.plot.raster(hillslope_demo_pars['raster_profile'], hillslope_demo_pars['bins'],\n",
    "#                      ax=ax0, cmap='prism')\n",
    "# subcatch_demo = hillslope_demo_pars['subcatchment']\n",
    "# subcatch_crs_demo = hillslope_demo_pars['subcatchment_target_crs']\n",
    "# workflow.plot.shply(subcatch_demo, subcatch_crs_demo, ax=ax0, color='k')\n",
    "# ax0.set_title(f'subcatchment {subcatch_demo_id}')\n",
    "\n",
    "# ax1 = workflow.plot.get_ax(native_crs, fig, axgrid=gs[1,:])\n",
    "# vmin, vmax = min(hillslope_demo_pars['land_cover']), max(hillslope_demo_pars['land_cover'])\n",
    "# cmap = plt.get_cmap(('viridis'),vmax-vmin+1)\n",
    "# lc = workflow.plot.raster(hillslope_demo_pars['raster_profile'],\n",
    "#                           hillslope_demo_pars['land_cover_raster'], \n",
    "#                           ax=ax1, vmin=vmin-0.5, vmax=vmax+0.5, cmap=cmap)\n",
    "# workflow.plot.shply(subcatch_demo, subcatch_crs_demo, ax=ax1, color='k')\n",
    "# position=fig.add_axes([0.95, 0.55, 0.02,0.1])\n",
    "\n",
    "# fig.colorbar(lc,ticks=np.arange(vmin,vmax+1),cax=position)\n",
    "\n",
    "# plt.show()"
   ]
  },
  {
   "cell_type": "markdown",
   "id": "1f4cb183",
   "metadata": {},
   "source": [
    "## Get parameters for all hillslopes"
   ]
  },
  {
   "cell_type": "code",
   "execution_count": 16,
   "id": "44f418ed",
   "metadata": {},
   "outputs": [],
   "source": [
    "# hillslope_pars = []\n",
    "# mesh_pars = []\n",
    "# subcatch_all_ids = 1+np.arange(len(subcatchments))\n",
    "# for subcatch_id in subcatch_all_ids:\n",
    "#     hillslope_pars.append(hillslopes.parameterizeSubcatchment(\n",
    "#         filenames, huc, subcatch_id,\n",
    "#         target_crs=target_crs,\n",
    "#         hillslope_keep_fraction=hillslope_keep_fraction,\n",
    "#         hillslope_bin_dx=hillslope_bin_dx))\n",
    "    \n",
    "# for i in range(len(hillslope_pars)):    \n",
    "#     mesh_pars.append(meshing.parameterizeMesh(hillslope_pars[i], mesh_dx,\n",
    "#                                               toeslope_min_slope=toeslope_min_slope,\n",
    "#                                               hillslope_min_slope=hillslope_min_slope,\n",
    "#                                               min_area_ratio=min_area_ratio))"
   ]
  },
  {
   "cell_type": "markdown",
   "id": "d89ac989",
   "metadata": {},
   "source": [
    "## Plot all hillslopes"
   ]
  },
  {
   "cell_type": "code",
   "execution_count": 17,
   "id": "789b2ed3",
   "metadata": {},
   "outputs": [],
   "source": [
    "# fig = plt.figure(figsize=(20,30),dpi=80)\n",
    "# nx, ny = 6,8\n",
    "# sep=0.02\n",
    "\n",
    "# axs = []\n",
    "# for i in range(nx):\n",
    "#     for j in range(ny):\n",
    "#         sub_id = i*ny+j+1\n",
    "#         if sub_id > len(subcatchments):\n",
    "#             continue\n",
    "        \n",
    "#         gs = gridspec.GridSpec(4,1,bottom=j/ny+sep, left=i/nx+sep, \n",
    "#                                top=(j+1)/ny - sep, right=(i+1)/nx - sep)\n",
    "#         ax1 = fig.add_subplot(gs[2,0])\n",
    "#         ax2 = fig.add_subplot(gs[3,0])\n",
    "#         axs = [ax1,ax2]\n",
    "#         h_par = hillslope_pars[sub_id-1]\n",
    "#         m_par = mesh_pars[sub_id-1]        \n",
    "#         plot.plot(h_par, m_par, fig=fig, axs=axs)\n",
    "        \n",
    "#         ax0 = workflow.plot.get_ax(native_crs, fig, axgrid=gs[0,0])\n",
    "#         ax0.set_title(f'subcatchment {sub_id}')\n",
    "#         workflow.plot.raster(hillslope_pars[sub_id-1]['raster_profile'], \n",
    "#                              hillslope_pars[sub_id-1]['bins'], ax=ax0, cmap='prism')\n",
    "#         subcatch = hillslope_pars[sub_id-1]['subcatchment']\n",
    "#         subcatch_crs = hillslope_pars[sub_id-1]['subcatchment_target_crs']            \n",
    "#         workflow.plot.shply(subcatch, subcatch_crs, ax=ax0, color='k')\n",
    "        \n",
    "#         ax1 = workflow.plot.get_ax(native_crs, fig, axgrid=gs[1,0])\n",
    "#         vmin = min(hillslope_pars[sub_id-1]['land_cover']) \n",
    "#         vmax = max(hillslope_pars[sub_id-1]['land_cover'])\n",
    "#         cmap = plt.get_cmap(('viridis'),vmax-vmin+1)\n",
    "#         lc = workflow.plot.raster(hillslope_pars[sub_id-1]['raster_profile'], \n",
    "#                                   hillslope_pars[sub_id-1]['land_cover_raster'], \n",
    "#                                   ax=ax1, vmin=vmin-0.5, vmax=vmax+0.5, cmap=cmap)\n",
    "#         workflow.plot.shply(subcatch, subcatch_crs, ax=ax1, color='k')\n",
    "#         position=fig.add_axes([i/nx+sep+0.13, j/ny+sep+0.045, 0.006,0.04])\n",
    "\n",
    "#         fig.colorbar(lc,ticks=np.arange(vmin,vmax+1),cax=position)\n",
    "\n",
    "# plt.tight_layout()\n",
    "# plt.show()"
   ]
  },
  {
   "cell_type": "markdown",
   "id": "d60fb0f2",
   "metadata": {},
   "source": [
    "# Generate mesh"
   ]
  },
  {
   "cell_type": "code",
   "execution_count": 18,
   "id": "4916162d",
   "metadata": {},
   "outputs": [],
   "source": [
    "layer_info = meshing.layeringStructure(organic_cells=30, organic_cell_dz=0.02, \n",
    "                      increase2depth=9.4, increase_cells=20, largest_dz=2.0,\n",
    "                      bottom_depth=46)\n",
    "layer_types, layer_data, layer_ncells = layer_info"
   ]
  },
  {
   "cell_type": "markdown",
   "id": "366f43ba",
   "metadata": {},
   "source": [
    "## Column spinup mesh"
   ]
  },
  {
   "cell_type": "code",
   "execution_count": 19,
   "id": "d75f2a06",
   "metadata": {},
   "outputs": [],
   "source": [
    "# if os.path.isfile(os.path.join(mesh_dir,'column.exo')):\n",
    "#     os.remove(os.path.join(mesh_dir,'column.exo'))\n",
    "# colum_mesh = meshing.createColumnMesh(layer_info, \n",
    "#                                       os.path.join(mesh_dir,'column.exo'))"
   ]
  },
  {
   "cell_type": "markdown",
   "id": "973ad6c6",
   "metadata": {},
   "source": [
    "## 2D for a given subcatchment"
   ]
  },
  {
   "cell_type": "code",
   "execution_count": 20,
   "id": "4396c703",
   "metadata": {},
   "outputs": [],
   "source": [
    "# m2 = meshing.createHillslopeMesh2D(mesh_demo_pars)\n",
    "# m3 = meshing.createHillslopeMesh3D(m2, mesh_demo_pars, layer_info,\n",
    "#                                    os.path.join(mesh_dir,f'sag_hillslope{subcatch_demo_id}.exo'))"
   ]
  },
  {
   "cell_type": "markdown",
   "id": "889672f6",
   "metadata": {},
   "source": [
    "## 3D for a given subcatchment"
   ]
  },
  {
   "cell_type": "code",
   "execution_count": 21,
   "id": "4bf13c05",
   "metadata": {},
   "outputs": [],
   "source": [
    "subcatch_demo = hillslope_demo_pars['subcatchment']\n",
    "subcatch_demo_smooth = hillslope_demo_pars['subcatchment_smooth']\n",
    "subcatch_crs_demo = hillslope_demo_pars['subcatchment_target_crs']\n",
    "\n",
    "nodem, m2, lc = meshing.createSubcatchmentMesh2D(filenames, subcatch_demo_smooth,\n",
    "                                                 subcatch_crs_demo, mesh_demo_pars,\n",
    "                                                 refine_max_area = refine_max_area, plot=True)\n",
    "if nodem > 0:\n",
    "    _, m2, lc = meshing.createSubcatchmentMesh2D(filenames, subcatch_demo,\n",
    "                                                 subcatch_crs_demo, mesh_demo_pars,\n",
    "                                                 refine_max_area = refine_max_area, plot=True)\n",
    "\n",
    "m3 = meshing.createSubcatchmentMesh3D(m2, lc, layer_info,\n",
    "                                      os.path.join(mesh_dir, \n",
    "                                                   f'sag_subcatchment{subcatch_demo_id}.exo'))"
   ]
  },
  {
   "cell_type": "markdown",
   "id": "d121163b",
   "metadata": {},
   "source": [
    "## 2D for all subcatchments"
   ]
  },
  {
   "cell_type": "code",
   "execution_count": 23,
   "id": "457de366",
   "metadata": {},
   "outputs": [],
   "source": [
    "# subcatch_all_ids = np.arange(1, len(subcatchments)+1)\n",
    "# for subcatch_id in subcatch_all_ids:\n",
    "#     index = subcatch_id - 1\n",
    "#     m2 = meshing.createHillslopeMesh2D(mesh_pars[index])\n",
    "#     m3 = meshing.createHillslopeMesh3D(m2, mesh_pars[index], meshing.layeringStructure(),\n",
    "#                                        os.path.join(mesh_dir,f'sag_hillslope{subcatch_id}.exo'))"
   ]
  },
  {
   "cell_type": "markdown",
   "id": "5e846eff",
   "metadata": {},
   "source": [
    "## 3D for all subcatchments"
   ]
  },
  {
   "cell_type": "code",
   "execution_count": 24,
   "id": "d32ea0e5",
   "metadata": {},
   "outputs": [],
   "source": [
    "# give_up_id = []\n",
    "# must_smooth_id = []\n",
    "# no_smooth_id = []\n",
    "\n",
    "# subcatch_all_ids = np.arange(1, len(subcatchments)+1)\n",
    "# for subcatch_id in subcatch_all_ids:\n",
    "#     index = subcatch_id - 1\n",
    "#     subcatch = hillslope_pars[index]['subcatchment']\n",
    "#     subcatch_smooth = hillslope_pars[index]['subcatchment_smooth']\n",
    "#     subcatch_crs = hillslope_pars[index]['subcatchment_target_crs']\n",
    "    \n",
    "#     if type(subcatch) == shapely.geometry.multipolygon.MultiPolygon:\n",
    "#         if subcatch_smooth is None:\n",
    "#             give_up_id.append(subcatch_id)\n",
    "        \n",
    "#         else:\n",
    "#             must_smooth_id.append(subcatch_id)\n",
    "#             _, m2, lc = meshing.createSubcatchmentMesh2D(filenames, subcatch_smooth, subcatch_crs,\n",
    "#                                                          mesh_pars[index], plot=False)\n",
    "#             m3 = meshing.createSubcatchmentMesh3D(m2, lc, layer_info, \n",
    "#                             os.path.join(mesh_dir, f'sag_subcatchment{subcatch_id}.exo'))\n",
    "            \n",
    "#     else:\n",
    "#         nodem, m2, lc = meshing.createSubcatchmentMesh2D(filenames, subcatch_smooth, \n",
    "#                                                          subcatch_crs, mesh_pars[index],\n",
    "#                                                          plot=False)\n",
    "#         if nodem > 0:\n",
    "#             no_smooth_id.append(subcatch_id)\n",
    "#             _, m2, lc = meshing.createSubcatchmentMesh2D(filenames, subcatch, subcatch_crs,\n",
    "#                                                          mesh_pars[index], plot=False)\n",
    "        \n",
    "        \n",
    "#         m3 = meshing.createSubcatchmentMesh3D(m2, lc, layer_info, \n",
    "#                             os.path.join(mesh_dir, f'sag_subcatchment{subcatch_id}.exo'))\n",
    "        \n",
    "# print(give_up_id)\n",
    "# print(must_smooth_id)"
   ]
  },
  {
   "cell_type": "markdown",
   "id": "bd6e1541",
   "metadata": {},
   "source": [
    "# DayMet"
   ]
  },
  {
   "cell_type": "markdown",
   "id": "42957ce2",
   "metadata": {},
   "source": [
    "## For a given subcatchment"
   ]
  },
  {
   "cell_type": "code",
   "execution_count": 25,
   "id": "f40ce9ae",
   "metadata": {},
   "outputs": [],
   "source": [
    "# start, end = datetime.date(1980,1,1), datetime.date(2020,12,31)\n",
    "# hillslopes.downloadDaymet(hillslope_demo_pars, daymet_raw_dir, \n",
    "#                           os.path.join(daymet_dir, f'huc_{huc}_subcatchment{subcatch_demo_id}_'\n",
    "#                           +str(start.year)+'_'+str(end.year)+'.h5'),\n",
    "#                           start, end)"
   ]
  },
  {
   "cell_type": "markdown",
   "id": "ddf3aa46",
   "metadata": {},
   "source": [
    "## For all subcatchment"
   ]
  },
  {
   "cell_type": "code",
   "execution_count": 26,
   "id": "b2e67606",
   "metadata": {},
   "outputs": [],
   "source": [
    "# start, end = datetime.date(2011,1,1), datetime.date(2020,12,31)\n",
    "# subcatch_all_ids = np.arange(1, len(subcatchments)+1)\n",
    "# for subcatch_id in subcatch_all_ids:\n",
    "#     index = subcatch_id - 1\n",
    "#     hillslopes.downloadDaymet(hillslope_pars[index], daymet_raw_dir, \n",
    "#                               os.path.join(daymet_dir, f'huc_{huc}_subcatchment{subcatch_id}_'\n",
    "#                               +str(start.year)+'_'+str(end.year)+'.h5'),\n",
    "#                               start, end)"
   ]
  }
 ],
 "metadata": {
  "kernelspec": {
   "display_name": "Python [conda env:watershed_workflow]",
   "language": "python",
   "name": "conda-env-watershed_workflow-py"
  },
  "language_info": {
   "codemirror_mode": {
    "name": "ipython",
    "version": 3
   },
   "file_extension": ".py",
   "mimetype": "text/x-python",
   "name": "python",
   "nbconvert_exporter": "python",
   "pygments_lexer": "ipython3",
   "version": "3.9.4"
  },
  "toc": {
   "base_numbering": 1,
   "nav_menu": {},
   "number_sections": true,
   "sideBar": true,
   "skip_h1_title": false,
   "title_cell": "Table of Contents",
   "title_sidebar": "Contents",
   "toc_cell": false,
   "toc_position": {
    "height": "586px",
    "left": "455px",
    "top": "691.125px",
    "width": "288px"
   },
   "toc_section_display": true,
   "toc_window_display": true
  }
 },
 "nbformat": 4,
 "nbformat_minor": 5
}
